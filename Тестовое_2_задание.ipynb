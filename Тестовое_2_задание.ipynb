{
 "cells": [
  {
   "cell_type": "code",
   "execution_count": 1,
   "id": "59344730-6b7f-457b-b706-a9598789cba6",
   "metadata": {},
   "outputs": [],
   "source": [
    "import pandas as pd\n",
    "import scipy.stats as stats\n",
    "import matplotlib.pyplot as plt\n",
    "import seaborn as sns\n",
    "import numpy as np\n",
    "from scipy.stats import ttest_ind"
   ]
  },
  {
   "cell_type": "code",
   "execution_count": 12,
   "id": "eb663b94-c37c-4445-a18e-2ccb42925075",
   "metadata": {},
   "outputs": [],
   "source": [
    "df = pd.read_csv('/Users/temp/202406131720_tt.csv')"
   ]
  },
  {
   "cell_type": "code",
   "execution_count": 26,
   "id": "f7025df7-af7b-4d2f-aee1-1583d2310a15",
   "metadata": {},
   "outputs": [
    {
     "data": {
      "text/plain": [
       "'2024-03-31'"
      ]
     },
     "execution_count": 26,
     "metadata": {},
     "output_type": "execute_result"
    }
   ],
   "source": [
    "df.date.max()"
   ]
  },
  {
   "cell_type": "code",
   "execution_count": 13,
   "id": "b860e771-6ef0-4e85-99a8-da9859723f82",
   "metadata": {},
   "outputs": [
    {
     "data": {
      "text/html": [
       "<div>\n",
       "<style scoped>\n",
       "    .dataframe tbody tr th:only-of-type {\n",
       "        vertical-align: middle;\n",
       "    }\n",
       "\n",
       "    .dataframe tbody tr th {\n",
       "        vertical-align: top;\n",
       "    }\n",
       "\n",
       "    .dataframe thead th {\n",
       "        text-align: right;\n",
       "    }\n",
       "</style>\n",
       "<table border=\"1\" class=\"dataframe\">\n",
       "  <thead>\n",
       "    <tr style=\"text-align: right;\">\n",
       "      <th></th>\n",
       "      <th>id</th>\n",
       "      <th>city_id</th>\n",
       "      <th>date</th>\n",
       "      <th>denominator</th>\n",
       "      <th>numerator</th>\n",
       "    </tr>\n",
       "  </thead>\n",
       "  <tbody>\n",
       "    <tr>\n",
       "      <th>0</th>\n",
       "      <td>a59437ae-8519-11ee-b973-08c0eb32008b</td>\n",
       "      <td>9753f709-b897-4c86-a5d5-bcdacf5677f5</td>\n",
       "      <td>2024-03-12</td>\n",
       "      <td>193</td>\n",
       "      <td>94</td>\n",
       "    </tr>\n",
       "    <tr>\n",
       "      <th>1</th>\n",
       "      <td>2f8b1f17-b823-11ed-b109-08c0eb31fffb</td>\n",
       "      <td>721d57f0-89b9-48d0-873f-0d225130f08e</td>\n",
       "      <td>2024-03-03</td>\n",
       "      <td>114</td>\n",
       "      <td>44</td>\n",
       "    </tr>\n",
       "    <tr>\n",
       "      <th>2</th>\n",
       "      <td>513bef0e-f4c1-11ed-885e-08c0eb32014b</td>\n",
       "      <td>a3e0f579-3ca4-4b56-8ab4-fe0ce71ee30c</td>\n",
       "      <td>2024-03-06</td>\n",
       "      <td>268</td>\n",
       "      <td>4</td>\n",
       "    </tr>\n",
       "    <tr>\n",
       "      <th>3</th>\n",
       "      <td>5ea5e72a-cfe4-11ea-b7de-0050560306e1</td>\n",
       "      <td>efd31898-7035-40e4-87c1-19f53ccfef72</td>\n",
       "      <td>2024-03-19</td>\n",
       "      <td>91</td>\n",
       "      <td>43</td>\n",
       "    </tr>\n",
       "    <tr>\n",
       "      <th>4</th>\n",
       "      <td>a30accc2-9d7d-11ee-8861-08c0eb32014b</td>\n",
       "      <td>af32eab3-8a55-40db-abec-42c6fec4f008</td>\n",
       "      <td>2024-03-27</td>\n",
       "      <td>7</td>\n",
       "      <td>0</td>\n",
       "    </tr>\n",
       "  </tbody>\n",
       "</table>\n",
       "</div>"
      ],
      "text/plain": [
       "                                     id                               city_id  \\\n",
       "0  a59437ae-8519-11ee-b973-08c0eb32008b  9753f709-b897-4c86-a5d5-bcdacf5677f5   \n",
       "1  2f8b1f17-b823-11ed-b109-08c0eb31fffb  721d57f0-89b9-48d0-873f-0d225130f08e   \n",
       "2  513bef0e-f4c1-11ed-885e-08c0eb32014b  a3e0f579-3ca4-4b56-8ab4-fe0ce71ee30c   \n",
       "3  5ea5e72a-cfe4-11ea-b7de-0050560306e1  efd31898-7035-40e4-87c1-19f53ccfef72   \n",
       "4  a30accc2-9d7d-11ee-8861-08c0eb32014b  af32eab3-8a55-40db-abec-42c6fec4f008   \n",
       "\n",
       "         date  denominator  numerator  \n",
       "0  2024-03-12          193         94  \n",
       "1  2024-03-03          114         44  \n",
       "2  2024-03-06          268          4  \n",
       "3  2024-03-19           91         43  \n",
       "4  2024-03-27            7          0  "
      ]
     },
     "execution_count": 13,
     "metadata": {},
     "output_type": "execute_result"
    }
   ],
   "source": [
    "df.head()"
   ]
  },
  {
   "cell_type": "code",
   "execution_count": 14,
   "id": "9417fb39-94f9-4cc9-8757-537c51991527",
   "metadata": {},
   "outputs": [
    {
     "data": {
      "text/plain": [
       "(55770, 5)"
      ]
     },
     "execution_count": 14,
     "metadata": {},
     "output_type": "execute_result"
    }
   ],
   "source": [
    "df.shape"
   ]
  },
  {
   "cell_type": "code",
   "execution_count": 23,
   "id": "6f514f8b-114e-44db-9a30-02434a09259c",
   "metadata": {},
   "outputs": [],
   "source": [
    "#df_active = df[df['date'] >= '2024-04-02']"
   ]
  },
  {
   "cell_type": "code",
   "execution_count": 27,
   "id": "59c70f39-c096-4dd9-be1f-c819bd48cf97",
   "metadata": {},
   "outputs": [],
   "source": [
    "df_active['ratio'] = df_active.numerator / df_active.denominator"
   ]
  },
  {
   "cell_type": "code",
   "execution_count": 72,
   "id": "4b6db486-4f13-4f1b-ad96-f00a685b6736",
   "metadata": {},
   "outputs": [
    {
     "data": {
      "text/html": [
       "<div>\n",
       "<style scoped>\n",
       "    .dataframe tbody tr th:only-of-type {\n",
       "        vertical-align: middle;\n",
       "    }\n",
       "\n",
       "    .dataframe tbody tr th {\n",
       "        vertical-align: top;\n",
       "    }\n",
       "\n",
       "    .dataframe thead th {\n",
       "        text-align: right;\n",
       "    }\n",
       "</style>\n",
       "<table border=\"1\" class=\"dataframe\">\n",
       "  <thead>\n",
       "    <tr style=\"text-align: right;\">\n",
       "      <th></th>\n",
       "      <th>id</th>\n",
       "      <th>city_id</th>\n",
       "      <th>date</th>\n",
       "      <th>denominator</th>\n",
       "      <th>numerator</th>\n",
       "      <th>ratio</th>\n",
       "      <th>log_ratio</th>\n",
       "      <th>ratio_strata</th>\n",
       "    </tr>\n",
       "  </thead>\n",
       "  <tbody>\n",
       "    <tr>\n",
       "      <th>0</th>\n",
       "      <td>a59437ae-8519-11ee-b973-08c0eb32008b</td>\n",
       "      <td>9753f709-b897-4c86-a5d5-bcdacf5677f5</td>\n",
       "      <td>2024-03-12</td>\n",
       "      <td>193</td>\n",
       "      <td>94</td>\n",
       "      <td>0.487047</td>\n",
       "      <td>0.396792</td>\n",
       "      <td>High</td>\n",
       "    </tr>\n",
       "    <tr>\n",
       "      <th>1</th>\n",
       "      <td>2f8b1f17-b823-11ed-b109-08c0eb31fffb</td>\n",
       "      <td>721d57f0-89b9-48d0-873f-0d225130f08e</td>\n",
       "      <td>2024-03-03</td>\n",
       "      <td>114</td>\n",
       "      <td>44</td>\n",
       "      <td>0.385965</td>\n",
       "      <td>0.326397</td>\n",
       "      <td>Medium-High</td>\n",
       "    </tr>\n",
       "    <tr>\n",
       "      <th>2</th>\n",
       "      <td>513bef0e-f4c1-11ed-885e-08c0eb32014b</td>\n",
       "      <td>a3e0f579-3ca4-4b56-8ab4-fe0ce71ee30c</td>\n",
       "      <td>2024-03-06</td>\n",
       "      <td>268</td>\n",
       "      <td>4</td>\n",
       "      <td>0.014925</td>\n",
       "      <td>0.014815</td>\n",
       "      <td>Low</td>\n",
       "    </tr>\n",
       "    <tr>\n",
       "      <th>3</th>\n",
       "      <td>5ea5e72a-cfe4-11ea-b7de-0050560306e1</td>\n",
       "      <td>efd31898-7035-40e4-87c1-19f53ccfef72</td>\n",
       "      <td>2024-03-19</td>\n",
       "      <td>91</td>\n",
       "      <td>43</td>\n",
       "      <td>0.472527</td>\n",
       "      <td>0.386980</td>\n",
       "      <td>High</td>\n",
       "    </tr>\n",
       "    <tr>\n",
       "      <th>4</th>\n",
       "      <td>a30accc2-9d7d-11ee-8861-08c0eb32014b</td>\n",
       "      <td>af32eab3-8a55-40db-abec-42c6fec4f008</td>\n",
       "      <td>2024-03-27</td>\n",
       "      <td>7</td>\n",
       "      <td>0</td>\n",
       "      <td>0.000000</td>\n",
       "      <td>0.000000</td>\n",
       "      <td>Low</td>\n",
       "    </tr>\n",
       "  </tbody>\n",
       "</table>\n",
       "</div>"
      ],
      "text/plain": [
       "                                     id                               city_id  \\\n",
       "0  a59437ae-8519-11ee-b973-08c0eb32008b  9753f709-b897-4c86-a5d5-bcdacf5677f5   \n",
       "1  2f8b1f17-b823-11ed-b109-08c0eb31fffb  721d57f0-89b9-48d0-873f-0d225130f08e   \n",
       "2  513bef0e-f4c1-11ed-885e-08c0eb32014b  a3e0f579-3ca4-4b56-8ab4-fe0ce71ee30c   \n",
       "3  5ea5e72a-cfe4-11ea-b7de-0050560306e1  efd31898-7035-40e4-87c1-19f53ccfef72   \n",
       "4  a30accc2-9d7d-11ee-8861-08c0eb32014b  af32eab3-8a55-40db-abec-42c6fec4f008   \n",
       "\n",
       "         date  denominator  numerator     ratio  log_ratio ratio_strata  \n",
       "0  2024-03-12          193         94  0.487047   0.396792         High  \n",
       "1  2024-03-03          114         44  0.385965   0.326397  Medium-High  \n",
       "2  2024-03-06          268          4  0.014925   0.014815          Low  \n",
       "3  2024-03-19           91         43  0.472527   0.386980         High  \n",
       "4  2024-03-27            7          0  0.000000   0.000000          Low  "
      ]
     },
     "execution_count": 72,
     "metadata": {},
     "output_type": "execute_result"
    }
   ],
   "source": [
    "df_active.head()"
   ]
  },
  {
   "cell_type": "code",
   "execution_count": 82,
   "id": "87fcc9e0-de27-4012-8daa-1c547582798a",
   "metadata": {},
   "outputs": [
    {
     "data": {
      "text/plain": [
       "(55770, 8)"
      ]
     },
     "execution_count": 82,
     "metadata": {},
     "output_type": "execute_result"
    }
   ],
   "source": [
    "df_active.shape"
   ]
  },
  {
   "cell_type": "code",
   "execution_count": 81,
   "id": "9460e842-2cd2-4320-98be-c3e58a2a1630",
   "metadata": {},
   "outputs": [],
   "source": [
    "df_active = df_active.drop_duplicates()"
   ]
  },
  {
   "cell_type": "code",
   "execution_count": 31,
   "id": "bd15e7f7-9855-46fe-ac89-1fd4a6b455f5",
   "metadata": {},
   "outputs": [
    {
     "data": {
      "text/html": [
       "<div>\n",
       "<style scoped>\n",
       "    .dataframe tbody tr th:only-of-type {\n",
       "        vertical-align: middle;\n",
       "    }\n",
       "\n",
       "    .dataframe tbody tr th {\n",
       "        vertical-align: top;\n",
       "    }\n",
       "\n",
       "    .dataframe thead th {\n",
       "        text-align: right;\n",
       "    }\n",
       "</style>\n",
       "<table border=\"1\" class=\"dataframe\">\n",
       "  <thead>\n",
       "    <tr style=\"text-align: right;\">\n",
       "      <th></th>\n",
       "      <th>denominator</th>\n",
       "      <th>numerator</th>\n",
       "      <th>ratio</th>\n",
       "    </tr>\n",
       "  </thead>\n",
       "  <tbody>\n",
       "    <tr>\n",
       "      <th>count</th>\n",
       "      <td>55770.000000</td>\n",
       "      <td>55770.000000</td>\n",
       "      <td>55632.000000</td>\n",
       "    </tr>\n",
       "    <tr>\n",
       "      <th>mean</th>\n",
       "      <td>166.899534</td>\n",
       "      <td>60.774646</td>\n",
       "      <td>0.318612</td>\n",
       "    </tr>\n",
       "    <tr>\n",
       "      <th>std</th>\n",
       "      <td>104.303992</td>\n",
       "      <td>57.531230</td>\n",
       "      <td>0.166170</td>\n",
       "    </tr>\n",
       "    <tr>\n",
       "      <th>min</th>\n",
       "      <td>0.000000</td>\n",
       "      <td>0.000000</td>\n",
       "      <td>0.000000</td>\n",
       "    </tr>\n",
       "    <tr>\n",
       "      <th>25%</th>\n",
       "      <td>91.000000</td>\n",
       "      <td>19.000000</td>\n",
       "      <td>0.196970</td>\n",
       "    </tr>\n",
       "    <tr>\n",
       "      <th>50%</th>\n",
       "      <td>151.000000</td>\n",
       "      <td>46.000000</td>\n",
       "      <td>0.312500</td>\n",
       "    </tr>\n",
       "    <tr>\n",
       "      <th>75%</th>\n",
       "      <td>225.000000</td>\n",
       "      <td>85.000000</td>\n",
       "      <td>0.431034</td>\n",
       "    </tr>\n",
       "    <tr>\n",
       "      <th>max</th>\n",
       "      <td>1010.000000</td>\n",
       "      <td>839.000000</td>\n",
       "      <td>1.000000</td>\n",
       "    </tr>\n",
       "  </tbody>\n",
       "</table>\n",
       "</div>"
      ],
      "text/plain": [
       "        denominator     numerator         ratio\n",
       "count  55770.000000  55770.000000  55632.000000\n",
       "mean     166.899534     60.774646      0.318612\n",
       "std      104.303992     57.531230      0.166170\n",
       "min        0.000000      0.000000      0.000000\n",
       "25%       91.000000     19.000000      0.196970\n",
       "50%      151.000000     46.000000      0.312500\n",
       "75%      225.000000     85.000000      0.431034\n",
       "max     1010.000000    839.000000      1.000000"
      ]
     },
     "execution_count": 31,
     "metadata": {},
     "output_type": "execute_result"
    }
   ],
   "source": [
    "df_active.describe()"
   ]
  },
  {
   "cell_type": "code",
   "execution_count": 32,
   "id": "571beffd-3f73-4a8f-a8f5-bdf96e3de7f6",
   "metadata": {},
   "outputs": [],
   "source": [
    "c = 1\n",
    "\n",
    "# Применяем логарифмическое преобразование с добавлением константы c\n",
    "df_active['log_ratio'] = df_active['ratio'].apply(lambda x: np.log(x + 1))"
   ]
  },
  {
   "cell_type": "code",
   "execution_count": 78,
   "id": "37ace104-2b40-425c-b253-2b0b89df1262",
   "metadata": {},
   "outputs": [
    {
     "name": "stderr",
     "output_type": "stream",
     "text": [
      "/opt/anaconda3/lib/python3.11/site-packages/seaborn/_oldcore.py:1119: FutureWarning: use_inf_as_na option is deprecated and will be removed in a future version. Convert inf values to NaN before operating instead.\n",
      "  with pd.option_context('mode.use_inf_as_na', True):\n"
     ]
    },
    {
     "data": {
      "text/plain": [
       "<Axes: xlabel='ratio', ylabel='Count'>"
      ]
     },
     "execution_count": 78,
     "metadata": {},
     "output_type": "execute_result"
    },
    {
     "data": {
      "image/png": "[encoded data removed]",
      "text/plain": [
       "<Figure size 640x480 with 1 Axes>"
      ]
     },
     "metadata": {},
     "output_type": "display_data"
    }
   ],
   "source": [
    "sns.histplot(df_active, x = 'ratio')"
   ]
  },
  {
   "cell_type": "code",
   "execution_count": 76,
   "id": "4be0049e-f9b8-4da2-a0ed-4a292ff949f6",
   "metadata": {},
   "outputs": [],
   "source": [
    "data = df_active['ratio']"
   ]
  },
  {
   "cell_type": "code",
   "execution_count": 77,
   "id": "bccf1da1-a660-48ca-83d3-b4e0fc2a1b51",
   "metadata": {},
   "outputs": [
    {
     "data": {
      "image/png": "[encoded data removed]",
      "text/plain": [
       "<Figure size 640x480 with 1 Axes>"
      ]
     },
     "metadata": {},
     "output_type": "display_data"
    }
   ],
   "source": [
    "stats.probplot(data, dist=\"norm\", plot=plt)\n",
    "plt.show()"
   ]
  },
  {
   "cell_type": "code",
   "execution_count": 85,
   "id": "3f38cb7f-b62d-4629-abbe-22b163320822",
   "metadata": {},
   "outputs": [],
   "source": [
    "#Видно, что слева у графика тяжелый конец и линия далека от прямой.\n",
    "# на нашем распределении сильный перекос в лево, как я и говорил, из-за огромного количества нулевых значений,  \n",
    "# Я пытался прологарифмировать, но все равно столкнулся с нулевыми значениями.  \n",
    "# Далее решил использовать в таком случаее тест Манна уитни"
   ]
  },
  {
   "cell_type": "code",
   "execution_count": 86,
   "id": "e7d6173d-5919-4b16-a09f-8b2114a0ee37",
   "metadata": {},
   "outputs": [],
   "source": [
    "df_active = df_active.fillna(0)"
   ]
  },
  {
   "cell_type": "code",
   "execution_count": 34,
   "id": "255241a9-0cd4-48e8-a753-84350f78b759",
   "metadata": {},
   "outputs": [],
   "source": [
    "# Добавляем новую колонку 'ratio_strata', которая будет содержать интервалы для 'ratio'\n",
    "\n",
    "# Определяем квантили\n",
    "quantiles = df_active['ratio'].quantile([0.25, 0.5, 0.75])\n",
    "\n",
    "# Функция для определения интервала\n",
    "def assign_strata(row, quantiles):\n",
    "    if row <= quantiles[0.25]:\n",
    "        return 'Low'\n",
    "    elif row <= quantiles[0.5]:\n",
    "        return 'Medium-Low'\n",
    "    elif row <= quantiles[0.75]:\n",
    "        return 'Medium-High'\n",
    "    else:\n",
    "        return 'High'\n",
    "\n",
    "# Применяем функцию к каждому значению 'ratio'\n",
    "df_active['ratio_strata'] = df_active['ratio'].apply(assign_strata, quantiles=quantiles)\n",
    "\n",
    "# Теперь 'df' содержит новую колонку 'ratio_strata' с интервалами\n"
   ]
  },
  {
   "cell_type": "code",
   "execution_count": 36,
   "id": "ff3a407e-5448-4707-94c5-1f17250c3df1",
   "metadata": {},
   "outputs": [
    {
     "data": {
      "text/html": [
       "<div>\n",
       "<style scoped>\n",
       "    .dataframe tbody tr th:only-of-type {\n",
       "        vertical-align: middle;\n",
       "    }\n",
       "\n",
       "    .dataframe tbody tr th {\n",
       "        vertical-align: top;\n",
       "    }\n",
       "\n",
       "    .dataframe thead th {\n",
       "        text-align: right;\n",
       "    }\n",
       "</style>\n",
       "<table border=\"1\" class=\"dataframe\">\n",
       "  <thead>\n",
       "    <tr style=\"text-align: right;\">\n",
       "      <th></th>\n",
       "      <th>id</th>\n",
       "      <th>city_id</th>\n",
       "      <th>date</th>\n",
       "      <th>denominator</th>\n",
       "      <th>numerator</th>\n",
       "      <th>ratio</th>\n",
       "      <th>log_ratio</th>\n",
       "      <th>ratio_strata</th>\n",
       "    </tr>\n",
       "  </thead>\n",
       "  <tbody>\n",
       "    <tr>\n",
       "      <th>0</th>\n",
       "      <td>a59437ae-8519-11ee-b973-08c0eb32008b</td>\n",
       "      <td>9753f709-b897-4c86-a5d5-bcdacf5677f5</td>\n",
       "      <td>2024-03-12</td>\n",
       "      <td>193</td>\n",
       "      <td>94</td>\n",
       "      <td>0.487047</td>\n",
       "      <td>0.396792</td>\n",
       "      <td>High</td>\n",
       "    </tr>\n",
       "    <tr>\n",
       "      <th>1</th>\n",
       "      <td>2f8b1f17-b823-11ed-b109-08c0eb31fffb</td>\n",
       "      <td>721d57f0-89b9-48d0-873f-0d225130f08e</td>\n",
       "      <td>2024-03-03</td>\n",
       "      <td>114</td>\n",
       "      <td>44</td>\n",
       "      <td>0.385965</td>\n",
       "      <td>0.326397</td>\n",
       "      <td>Medium-High</td>\n",
       "    </tr>\n",
       "    <tr>\n",
       "      <th>2</th>\n",
       "      <td>513bef0e-f4c1-11ed-885e-08c0eb32014b</td>\n",
       "      <td>a3e0f579-3ca4-4b56-8ab4-fe0ce71ee30c</td>\n",
       "      <td>2024-03-06</td>\n",
       "      <td>268</td>\n",
       "      <td>4</td>\n",
       "      <td>0.014925</td>\n",
       "      <td>0.014815</td>\n",
       "      <td>Low</td>\n",
       "    </tr>\n",
       "    <tr>\n",
       "      <th>3</th>\n",
       "      <td>5ea5e72a-cfe4-11ea-b7de-0050560306e1</td>\n",
       "      <td>efd31898-7035-40e4-87c1-19f53ccfef72</td>\n",
       "      <td>2024-03-19</td>\n",
       "      <td>91</td>\n",
       "      <td>43</td>\n",
       "      <td>0.472527</td>\n",
       "      <td>0.386980</td>\n",
       "      <td>High</td>\n",
       "    </tr>\n",
       "    <tr>\n",
       "      <th>4</th>\n",
       "      <td>a30accc2-9d7d-11ee-8861-08c0eb32014b</td>\n",
       "      <td>af32eab3-8a55-40db-abec-42c6fec4f008</td>\n",
       "      <td>2024-03-27</td>\n",
       "      <td>7</td>\n",
       "      <td>0</td>\n",
       "      <td>0.000000</td>\n",
       "      <td>0.000000</td>\n",
       "      <td>Low</td>\n",
       "    </tr>\n",
       "  </tbody>\n",
       "</table>\n",
       "</div>"
      ],
      "text/plain": [
       "                                     id                               city_id  \\\n",
       "0  a59437ae-8519-11ee-b973-08c0eb32008b  9753f709-b897-4c86-a5d5-bcdacf5677f5   \n",
       "1  2f8b1f17-b823-11ed-b109-08c0eb31fffb  721d57f0-89b9-48d0-873f-0d225130f08e   \n",
       "2  513bef0e-f4c1-11ed-885e-08c0eb32014b  a3e0f579-3ca4-4b56-8ab4-fe0ce71ee30c   \n",
       "3  5ea5e72a-cfe4-11ea-b7de-0050560306e1  efd31898-7035-40e4-87c1-19f53ccfef72   \n",
       "4  a30accc2-9d7d-11ee-8861-08c0eb32014b  af32eab3-8a55-40db-abec-42c6fec4f008   \n",
       "\n",
       "         date  denominator  numerator     ratio  log_ratio ratio_strata  \n",
       "0  2024-03-12          193         94  0.487047   0.396792         High  \n",
       "1  2024-03-03          114         44  0.385965   0.326397  Medium-High  \n",
       "2  2024-03-06          268          4  0.014925   0.014815          Low  \n",
       "3  2024-03-19           91         43  0.472527   0.386980         High  \n",
       "4  2024-03-27            7          0  0.000000   0.000000          Low  "
      ]
     },
     "execution_count": 36,
     "metadata": {},
     "output_type": "execute_result"
    }
   ],
   "source": [
    "df_active.head()"
   ]
  },
  {
   "cell_type": "code",
   "execution_count": 37,
   "id": "bc2bea45-04ae-4ab4-8d1a-5eb3528465d1",
   "metadata": {},
   "outputs": [
    {
     "data": {
      "text/plain": [
       "0.25    0.196970\n",
       "0.50    0.312500\n",
       "0.75    0.431034\n",
       "Name: ratio, dtype: float64"
      ]
     },
     "execution_count": 37,
     "metadata": {},
     "output_type": "execute_result"
    }
   ],
   "source": [
    "quantiles"
   ]
  },
  {
   "cell_type": "code",
   "execution_count": 49,
   "id": "f13270bc-a562-4b0a-a740-a202bf514a5e",
   "metadata": {},
   "outputs": [],
   "source": [
    "# Группируем данные по 'city_id' и 'ratio_strata' - это и есть наша система сплитования\n",
    "grouped = df_active.groupby(['city_id', 'ratio_strata'])\n",
    "\n",
    "# Создаем список для хранения результатов\n",
    "ab_test_groups_list = []\n",
    "\n",
    "# Для каждой группы случайно разделяем дарксторы на группы А и В\n",
    "for name, group in grouped:\n",
    "    group = group.copy()  # Создаем копию, чтобы избежать предупреждения SettingWithCopyWarning\n",
    "    group['AB_group'] = 'A'  # Сначала присваиваем всем значение 'A'\n",
    "    # Случайно выбираем половину дарксторов для группы 'B'\n",
    "    b_sample = group.sample(frac=0.5, random_state=1)\n",
    "    group.loc[b_sample.index, 'AB_group'] = 'B'\n",
    "    # Добавляем обработанную группу в список\n",
    "    ab_test_groups_list.append(group)\n",
    "\n",
    "# Объединяем все группы в один DataFrame\n",
    "ab_test_groups = pd.concat(ab_test_groups_list, ignore_index=True)"
   ]
  },
  {
   "cell_type": "code",
   "execution_count": 50,
   "id": "2be1e192-e5f0-44e1-a167-1c27ea8d3833",
   "metadata": {},
   "outputs": [
    {
     "data": {
      "text/html": [
       "<div>\n",
       "<style scoped>\n",
       "    .dataframe tbody tr th:only-of-type {\n",
       "        vertical-align: middle;\n",
       "    }\n",
       "\n",
       "    .dataframe tbody tr th {\n",
       "        vertical-align: top;\n",
       "    }\n",
       "\n",
       "    .dataframe thead th {\n",
       "        text-align: right;\n",
       "    }\n",
       "</style>\n",
       "<table border=\"1\" class=\"dataframe\">\n",
       "  <thead>\n",
       "    <tr style=\"text-align: right;\">\n",
       "      <th></th>\n",
       "      <th>id</th>\n",
       "      <th>city_id</th>\n",
       "      <th>date</th>\n",
       "      <th>denominator</th>\n",
       "      <th>numerator</th>\n",
       "      <th>ratio</th>\n",
       "      <th>log_ratio</th>\n",
       "      <th>ratio_strata</th>\n",
       "      <th>AB_group</th>\n",
       "    </tr>\n",
       "  </thead>\n",
       "  <tbody>\n",
       "    <tr>\n",
       "      <th>0</th>\n",
       "      <td>4fa8d3c4-2f8b-11ee-885f-08c0eb32014b</td>\n",
       "      <td>05a6b500-0ffd-46d3-907a-556f7ddc86e5</td>\n",
       "      <td>2024-03-02</td>\n",
       "      <td>183</td>\n",
       "      <td>81</td>\n",
       "      <td>0.442623</td>\n",
       "      <td>0.366463</td>\n",
       "      <td>High</td>\n",
       "      <td>A</td>\n",
       "    </tr>\n",
       "    <tr>\n",
       "      <th>1</th>\n",
       "      <td>4fa8d3c4-2f8b-11ee-885f-08c0eb32014b</td>\n",
       "      <td>05a6b500-0ffd-46d3-907a-556f7ddc86e5</td>\n",
       "      <td>2024-03-18</td>\n",
       "      <td>106</td>\n",
       "      <td>47</td>\n",
       "      <td>0.443396</td>\n",
       "      <td>0.366999</td>\n",
       "      <td>High</td>\n",
       "      <td>A</td>\n",
       "    </tr>\n",
       "    <tr>\n",
       "      <th>2</th>\n",
       "      <td>0c154cca-3c23-11ee-885f-08c0eb32014b</td>\n",
       "      <td>05a6b500-0ffd-46d3-907a-556f7ddc86e5</td>\n",
       "      <td>2024-03-03</td>\n",
       "      <td>152</td>\n",
       "      <td>73</td>\n",
       "      <td>0.480263</td>\n",
       "      <td>0.392220</td>\n",
       "      <td>High</td>\n",
       "      <td>B</td>\n",
       "    </tr>\n",
       "    <tr>\n",
       "      <th>3</th>\n",
       "      <td>4fa8d3c4-2f8b-11ee-885f-08c0eb32014b</td>\n",
       "      <td>05a6b500-0ffd-46d3-907a-556f7ddc86e5</td>\n",
       "      <td>2024-03-29</td>\n",
       "      <td>200</td>\n",
       "      <td>89</td>\n",
       "      <td>0.445000</td>\n",
       "      <td>0.368109</td>\n",
       "      <td>High</td>\n",
       "      <td>B</td>\n",
       "    </tr>\n",
       "    <tr>\n",
       "      <th>4</th>\n",
       "      <td>8e470f23-473e-11ee-b971-08c0eb32008b</td>\n",
       "      <td>05a6b500-0ffd-46d3-907a-556f7ddc86e5</td>\n",
       "      <td>2024-03-09</td>\n",
       "      <td>86</td>\n",
       "      <td>56</td>\n",
       "      <td>0.651163</td>\n",
       "      <td>0.501480</td>\n",
       "      <td>High</td>\n",
       "      <td>A</td>\n",
       "    </tr>\n",
       "    <tr>\n",
       "      <th>...</th>\n",
       "      <td>...</td>\n",
       "      <td>...</td>\n",
       "      <td>...</td>\n",
       "      <td>...</td>\n",
       "      <td>...</td>\n",
       "      <td>...</td>\n",
       "      <td>...</td>\n",
       "      <td>...</td>\n",
       "      <td>...</td>\n",
       "    </tr>\n",
       "    <tr>\n",
       "      <th>55734</th>\n",
       "      <td>2e36d407-013a-11ee-ae78-08c0eb320147</td>\n",
       "      <td>f917f6d1-3e66-4d12-a5ca-381048d9c6a7</td>\n",
       "      <td>2024-03-03</td>\n",
       "      <td>41</td>\n",
       "      <td>11</td>\n",
       "      <td>0.268293</td>\n",
       "      <td>0.237672</td>\n",
       "      <td>Medium-Low</td>\n",
       "      <td>B</td>\n",
       "    </tr>\n",
       "    <tr>\n",
       "      <th>55735</th>\n",
       "      <td>583c813e-ac77-11ed-ae77-08c0eb320147</td>\n",
       "      <td>f917f6d1-3e66-4d12-a5ca-381048d9c6a7</td>\n",
       "      <td>2024-03-13</td>\n",
       "      <td>40</td>\n",
       "      <td>8</td>\n",
       "      <td>0.200000</td>\n",
       "      <td>0.182322</td>\n",
       "      <td>Medium-Low</td>\n",
       "      <td>B</td>\n",
       "    </tr>\n",
       "    <tr>\n",
       "      <th>55736</th>\n",
       "      <td>583c813e-ac77-11ed-ae77-08c0eb320147</td>\n",
       "      <td>f917f6d1-3e66-4d12-a5ca-381048d9c6a7</td>\n",
       "      <td>2024-03-19</td>\n",
       "      <td>69</td>\n",
       "      <td>18</td>\n",
       "      <td>0.260870</td>\n",
       "      <td>0.231802</td>\n",
       "      <td>Medium-Low</td>\n",
       "      <td>B</td>\n",
       "    </tr>\n",
       "    <tr>\n",
       "      <th>55737</th>\n",
       "      <td>583c813e-ac77-11ed-ae77-08c0eb320147</td>\n",
       "      <td>f917f6d1-3e66-4d12-a5ca-381048d9c6a7</td>\n",
       "      <td>2024-03-01</td>\n",
       "      <td>105</td>\n",
       "      <td>28</td>\n",
       "      <td>0.266667</td>\n",
       "      <td>0.236389</td>\n",
       "      <td>Medium-Low</td>\n",
       "      <td>A</td>\n",
       "    </tr>\n",
       "    <tr>\n",
       "      <th>55738</th>\n",
       "      <td>583c813e-ac77-11ed-ae77-08c0eb320147</td>\n",
       "      <td>f917f6d1-3e66-4d12-a5ca-381048d9c6a7</td>\n",
       "      <td>2024-03-23</td>\n",
       "      <td>97</td>\n",
       "      <td>30</td>\n",
       "      <td>0.309278</td>\n",
       "      <td>0.269476</td>\n",
       "      <td>Medium-Low</td>\n",
       "      <td>A</td>\n",
       "    </tr>\n",
       "  </tbody>\n",
       "</table>\n",
       "<p>55739 rows × 9 columns</p>\n",
       "</div>"
      ],
      "text/plain": [
       "                                         id  \\\n",
       "0      4fa8d3c4-2f8b-11ee-885f-08c0eb32014b   \n",
       "1      4fa8d3c4-2f8b-11ee-885f-08c0eb32014b   \n",
       "2      0c154cca-3c23-11ee-885f-08c0eb32014b   \n",
       "3      4fa8d3c4-2f8b-11ee-885f-08c0eb32014b   \n",
       "4      8e470f23-473e-11ee-b971-08c0eb32008b   \n",
       "...                                     ...   \n",
       "55734  2e36d407-013a-11ee-ae78-08c0eb320147   \n",
       "55735  583c813e-ac77-11ed-ae77-08c0eb320147   \n",
       "55736  583c813e-ac77-11ed-ae77-08c0eb320147   \n",
       "55737  583c813e-ac77-11ed-ae77-08c0eb320147   \n",
       "55738  583c813e-ac77-11ed-ae77-08c0eb320147   \n",
       "\n",
       "                                    city_id        date  denominator  \\\n",
       "0      05a6b500-0ffd-46d3-907a-556f7ddc86e5  2024-03-02          183   \n",
       "1      05a6b500-0ffd-46d3-907a-556f7ddc86e5  2024-03-18          106   \n",
       "2      05a6b500-0ffd-46d3-907a-556f7ddc86e5  2024-03-03          152   \n",
       "3      05a6b500-0ffd-46d3-907a-556f7ddc86e5  2024-03-29          200   \n",
       "4      05a6b500-0ffd-46d3-907a-556f7ddc86e5  2024-03-09           86   \n",
       "...                                     ...         ...          ...   \n",
       "55734  f917f6d1-3e66-4d12-a5ca-381048d9c6a7  2024-03-03           41   \n",
       "55735  f917f6d1-3e66-4d12-a5ca-381048d9c6a7  2024-03-13           40   \n",
       "55736  f917f6d1-3e66-4d12-a5ca-381048d9c6a7  2024-03-19           69   \n",
       "55737  f917f6d1-3e66-4d12-a5ca-381048d9c6a7  2024-03-01          105   \n",
       "55738  f917f6d1-3e66-4d12-a5ca-381048d9c6a7  2024-03-23           97   \n",
       "\n",
       "       numerator     ratio  log_ratio ratio_strata AB_group  \n",
       "0             81  0.442623   0.366463         High        A  \n",
       "1             47  0.443396   0.366999         High        A  \n",
       "2             73  0.480263   0.392220         High        B  \n",
       "3             89  0.445000   0.368109         High        B  \n",
       "4             56  0.651163   0.501480         High        A  \n",
       "...          ...       ...        ...          ...      ...  \n",
       "55734         11  0.268293   0.237672   Medium-Low        B  \n",
       "55735          8  0.200000   0.182322   Medium-Low        B  \n",
       "55736         18  0.260870   0.231802   Medium-Low        B  \n",
       "55737         28  0.266667   0.236389   Medium-Low        A  \n",
       "55738         30  0.309278   0.269476   Medium-Low        A  \n",
       "\n",
       "[55739 rows x 9 columns]"
      ]
     },
     "execution_count": 50,
     "metadata": {},
     "output_type": "execute_result"
    }
   ],
   "source": [
    "ab_test_groups"
   ]
  },
  {
   "cell_type": "code",
   "execution_count": 53,
   "id": "2ff4085f-a12b-4b50-88fe-a41c39fb69fa",
   "metadata": {},
   "outputs": [],
   "source": [
    "ab_test_groups = ab_test_groups.fillna(0)"
   ]
  },
  {
   "cell_type": "code",
   "execution_count": 54,
   "id": "76a9e3b4-7e54-4b62-b508-1ebe7af8ccdb",
   "metadata": {},
   "outputs": [],
   "source": [
    "# Разделяем данные на группы A и B\n",
    "group_a = ab_test_groups[ab_test_groups['AB_group'] == 'A']['ratio']\n",
    "group_b = ab_test_groups[ab_test_groups['AB_group'] == 'B']['ratio']"
   ]
  },
  {
   "cell_type": "code",
   "execution_count": 79,
   "id": "d7b8b7c2-09be-49cb-9dbd-bafa803889a8",
   "metadata": {},
   "outputs": [
    {
     "name": "stdout",
     "output_type": "stream",
     "text": [
      "U-статистика: 387902015.0\n",
      "P-значение: 0.811715744156799\n",
      "Нет статистически значимых различий между выборками.\n"
     ]
    }
   ],
   "source": [
    "# Выполняем тест Манна-Уитни\n",
    "u_statistic, p_value = stats.mannwhitneyu(group_a, group_b, alternative='two-sided')\n",
    "\n",
    "# Выводим результаты\n",
    "print(f'U-статистика: {u_statistic}')\n",
    "print(f'P-значение: {p_value}')\n",
    "\n",
    "# Интерпретация результатов\n",
    "if p_value < 0.05:\n",
    "    print('Есть статистически значимые различия между выборками.')\n",
    "else:\n",
    "    print('Нет статистически значимых различий между выборками.')"
   ]
  },
  {
   "cell_type": "code",
   "execution_count": null,
   "id": "e985b6df-080f-41b3-a9fd-a7f803cfc084",
   "metadata": {},
   "outputs": [],
   "source": []
  }
 ],
 "metadata": {
  "kernelspec": {
   "display_name": "Python 3 (ipykernel)",
   "language": "python",
   "name": "python3"
  },
  "language_info": {
   "codemirror_mode": {
    "name": "ipython",
    "version": 3
   },
   "file_extension": ".py",
   "mimetype": "text/x-python",
   "name": "python",
   "nbconvert_exporter": "python",
   "pygments_lexer": "ipython3",
   "version": "3.11.7"
  }
 },
 "nbformat": 4,
 "nbformat_minor": 5
}
